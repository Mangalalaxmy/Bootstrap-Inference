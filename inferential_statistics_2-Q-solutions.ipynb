{
 "cells": [
  {
   "cell_type": "markdown",
   "metadata": {},
   "source": [
    "# Inferential statistics II - Bootstrapping"
   ]
  },
  {
   "cell_type": "code",
   "execution_count": 1,
   "metadata": {},
   "outputs": [],
   "source": [
    "import pandas as pd\n",
    "import numpy as np\n",
    "from numpy.random import seed\n",
    "import matplotlib.pyplot as plt"
   ]
  },
  {
   "cell_type": "markdown",
   "metadata": {},
   "source": [
    "## Medical charge data set"
   ]
  },
  {
   "cell_type": "code",
   "execution_count": 2,
   "metadata": {},
   "outputs": [],
   "source": [
    "med_charges = pd.read_csv('data/insurance2.csv')"
   ]
  },
  {
   "cell_type": "code",
   "execution_count": 3,
   "metadata": {},
   "outputs": [
    {
     "data": {
      "text/html": [
       "<div>\n",
       "<style scoped>\n",
       "    .dataframe tbody tr th:only-of-type {\n",
       "        vertical-align: middle;\n",
       "    }\n",
       "\n",
       "    .dataframe tbody tr th {\n",
       "        vertical-align: top;\n",
       "    }\n",
       "\n",
       "    .dataframe thead th {\n",
       "        text-align: right;\n",
       "    }\n",
       "</style>\n",
       "<table border=\"1\" class=\"dataframe\">\n",
       "  <thead>\n",
       "    <tr style=\"text-align: right;\">\n",
       "      <th></th>\n",
       "      <th>age</th>\n",
       "      <th>sex</th>\n",
       "      <th>bmi</th>\n",
       "      <th>children</th>\n",
       "      <th>smoker</th>\n",
       "      <th>region</th>\n",
       "      <th>charges</th>\n",
       "      <th>insuranceclaim</th>\n",
       "    </tr>\n",
       "  </thead>\n",
       "  <tbody>\n",
       "    <tr>\n",
       "      <td>0</td>\n",
       "      <td>19</td>\n",
       "      <td>0</td>\n",
       "      <td>27.900</td>\n",
       "      <td>0</td>\n",
       "      <td>1</td>\n",
       "      <td>3</td>\n",
       "      <td>16884.92400</td>\n",
       "      <td>1</td>\n",
       "    </tr>\n",
       "    <tr>\n",
       "      <td>1</td>\n",
       "      <td>18</td>\n",
       "      <td>1</td>\n",
       "      <td>33.770</td>\n",
       "      <td>1</td>\n",
       "      <td>0</td>\n",
       "      <td>2</td>\n",
       "      <td>1725.55230</td>\n",
       "      <td>1</td>\n",
       "    </tr>\n",
       "    <tr>\n",
       "      <td>2</td>\n",
       "      <td>28</td>\n",
       "      <td>1</td>\n",
       "      <td>33.000</td>\n",
       "      <td>3</td>\n",
       "      <td>0</td>\n",
       "      <td>2</td>\n",
       "      <td>4449.46200</td>\n",
       "      <td>0</td>\n",
       "    </tr>\n",
       "    <tr>\n",
       "      <td>3</td>\n",
       "      <td>33</td>\n",
       "      <td>1</td>\n",
       "      <td>22.705</td>\n",
       "      <td>0</td>\n",
       "      <td>0</td>\n",
       "      <td>1</td>\n",
       "      <td>21984.47061</td>\n",
       "      <td>0</td>\n",
       "    </tr>\n",
       "    <tr>\n",
       "      <td>4</td>\n",
       "      <td>32</td>\n",
       "      <td>1</td>\n",
       "      <td>28.880</td>\n",
       "      <td>0</td>\n",
       "      <td>0</td>\n",
       "      <td>1</td>\n",
       "      <td>3866.85520</td>\n",
       "      <td>1</td>\n",
       "    </tr>\n",
       "  </tbody>\n",
       "</table>\n",
       "</div>"
      ],
      "text/plain": [
       "   age  sex     bmi  children  smoker  region      charges  insuranceclaim\n",
       "0   19    0  27.900         0       1       3  16884.92400               1\n",
       "1   18    1  33.770         1       0       2   1725.55230               1\n",
       "2   28    1  33.000         3       0       2   4449.46200               0\n",
       "3   33    1  22.705         0       0       1  21984.47061               0\n",
       "4   32    1  28.880         0       0       1   3866.85520               1"
      ]
     },
     "execution_count": 3,
     "metadata": {},
     "output_type": "execute_result"
    }
   ],
   "source": [
    "med_charges.head()"
   ]
  },
  {
   "cell_type": "markdown",
   "metadata": {},
   "source": [
    "__Q:__ Use bootstrap sampling to estimate the same 95% confidence interval lower limit as before."
   ]
  },
  {
   "cell_type": "markdown",
   "metadata": {},
   "source": [
    "__A:__"
   ]
  },
  {
   "cell_type": "code",
   "execution_count": 55,
   "metadata": {},
   "outputs": [
    {
     "name": "stdout",
     "output_type": "stream",
     "text": [
      "Lower limit: [12724.4679217]\n"
     ]
    }
   ],
   "source": [
    "np.random.seed(47)\n",
    "N_rep = 10000\n",
    "bs_replicates = np.empty(N_rep)                                                 # created an empty array for the replicates\n",
    "for i in range(N_rep):                                                          # iterating through the range of the length of replicates\n",
    "    bs_sample = np.random.choice(med_charges.charges, size=(len(med_charges)))  # resampling with replacement \n",
    "    bs_replicates[i] = np.mean(bs_sample)                                       # mean of the bootstrap samples\n",
    "conf_int = np.percentile(bs_replicates, [5])                                    # 95% onfidence interval \n",
    "print('Lower limit: ' + str(conf_int))"
   ]
  },
  {
   "cell_type": "markdown",
   "metadata": {},
   "source": [
    "Remember, in the previous mini-projects, we saw that there are two ways of performing a _t_-test from a sample, depending on whether we can assume the groups have equal variance or not. We can actually easily test this using the bootstrap approach!"
   ]
  },
  {
   "cell_type": "markdown",
   "metadata": {},
   "source": [
    "__Q:__ Calculate the 95% confidence interval for the difference between the standard deviations of insurance and non-insurance claim charges (insured - non-insured). Calculate the differences over 10000 replicates. Plot the histogram of values and mark the locations of the percentiles. State the null and alternative hypothesis and comment on whether you would retain or reject the null hypothesis in this case and why."
   ]
  },
  {
   "cell_type": "markdown",
   "metadata": {},
   "source": [
    "__A:__  Null Hypothesis - There is no difference in the standard deviations between the insured and the uninsured.\n",
    "\n",
    "Alternative Hypothesis - There are differences in the standard deviations between the insured and unisured."
   ]
  },
  {
   "cell_type": "code",
   "execution_count": 62,
   "metadata": {},
   "outputs": [
    {
     "name": "stdout",
     "output_type": "stream",
     "text": [
      "Difference in std: 7596.256408655178\n"
     ]
    }
   ],
   "source": [
    "insured = med_charges[med_charges.insuranceclaim == 1]['charges']          # Selected insured \n",
    "uninsured = med_charges[med_charges.insuranceclaim == 0]['charges']         # Selected uninsured\n",
    "\n",
    "std_in = np.std(insured)\n",
    "std_un = np.std(uninsured)\n",
    "diff_of_std = std_in - std_un\n",
    "\n",
    "mix_data = np.concatenate((insured, uninsured)) \n",
    "mix_data_std = np.std(mix_data)\n",
    "in_shifted = insured - np.std(insured) + mix_data_std\n",
    "un_shifted = uninsured - np.std(uninsured) + mix_data_std\n",
    "\n",
    "print('Difference in std: ' + str(diff_of_std))"
   ]
  },
  {
   "cell_type": "code",
   "execution_count": 58,
   "metadata": {},
   "outputs": [
    {
     "name": "stdout",
     "output_type": "stream",
     "text": [
      "[6681.572467   8502.74820416]\n"
     ]
    }
   ],
   "source": [
    "np.random.seed(47)\n",
    "bs_replicates_std = np.empty(10000)\n",
    "for i in range(10000):\n",
    "    bs_sample_in = np.random.choice(in_shifted, len(insured))\n",
    "    bs_sample_un = np.random.choice(un_shifted, len(uninsured))\n",
    "    bs_replicates_std[i] = np.std(bs_sample_in) - np.std(bs_sample_un)\n",
    "\n",
    "conf_int_std = np.percentile(bs_replicates_std, [2.5, 97.5])\n",
    "print(conf_int_std)\n",
    "    "
   ]
  },
  {
   "cell_type": "code",
   "execution_count": 60,
   "metadata": {},
   "outputs": [
    {
     "name": "stderr",
     "output_type": "stream",
     "text": [
      "C:\\Users\\Ramya\\Anaconda3\\lib\\site-packages\\ipykernel_launcher.py:1: MatplotlibDeprecationWarning: \n",
      "The 'normed' kwarg was deprecated in Matplotlib 2.1 and will be removed in 3.1. Use 'density' instead.\n",
      "  \"\"\"Entry point for launching an IPython kernel.\n"
     ]
    },
    {
     "data": {
      "image/png": "[encoded data removed]",
      "text/plain": [
       "<Figure size 432x288 with 1 Axes>"
      ]
     },
     "metadata": {
      "needs_background": "light"
     },
     "output_type": "display_data"
    }
   ],
   "source": [
    "_ = plt.hist(bs_replicates_std, bins= 30, normed=True, edgecolor='white')\n",
    "_ = plt.xlabel('diff_stdevs')\n",
    "_ = plt.ylabel('probabilty')\n",
    "_ = plt.axvline(np.percentile(bs_replicates_std, 2.5), color='k', linestyle='dashed', linewidth=1)\n",
    "_ = plt.axvline(np.percentile(bs_replicates_std, 97.5), color='k', linestyle='dashed', linewidth=1)\n"
   ]
  },
  {
   "cell_type": "markdown",
   "metadata": {},
   "source": [
    "The 95% confidence interval under the null hypothesis is 6681.57 to 8502.75. The observed test statistic we have from the dataset is 7596.26 which is in the confidence interval. We reject the null hypothesis because there is no 0 in the confidence interval."
   ]
  },
  {
   "cell_type": "markdown",
   "metadata": {},
   "source": [
    "## Confidence interval and p-value"
   ]
  },
  {
   "cell_type": "markdown",
   "metadata": {},
   "source": [
    "__Q:__ Perform a bootstrapped hypothesis test at the 5% significance level ($\\alpha = 0.05$) to calculate the p-value of the observed difference between insurance and non-insurance charges, state your null and alternative hypotheses and whether you retain or reject the null hypothesis for the given significance level."
   ]
  },
  {
   "cell_type": "markdown",
   "metadata": {},
   "source": [
    "__A:__ Null Hypothesis - There is no difference in the mean of the charges of the insured and uninsured. \n",
    "\n",
    "Alternative Hypothesis - There is a difference in the mean of the charges - insured and uninsured."
   ]
  },
  {
   "cell_type": "code",
   "execution_count": 72,
   "metadata": {},
   "outputs": [
    {
     "name": "stdout",
     "output_type": "stream",
     "text": [
      "Difference in mean: 7602.506384231368\n"
     ]
    }
   ],
   "source": [
    "insured = med_charges[med_charges.insuranceclaim == 1]['charges']          # Selected insured \n",
    "uninsured = med_charges[med_charges.insuranceclaim == 0]['charges']         # Selected uninsured\n",
    "\n",
    "mean_in = np.mean(insured)\n",
    "mean_un = np.mean(uninsured)\n",
    "diff_of_mean = mean_in - mean_un\n",
    "\n",
    "mix_data = np.concatenate((insured, uninsured)) \n",
    "mix_data_mean = np.mean(mix_data)\n",
    "in_shifted_m = insured - np.mean(insured) + mix_data_mean\n",
    "un_shifted_m = uninsured - np.mean(uninsured) + mix_data_mean\n",
    "\n",
    "print('Difference in mean: ' + str(diff_of_mean))"
   ]
  },
  {
   "cell_type": "code",
   "execution_count": 73,
   "metadata": {},
   "outputs": [],
   "source": [
    "np.random.seed(47)\n",
    "bs_replicates_mean = np.empty(10000)\n",
    "for i in range(10000):\n",
    "    bs_sample_in_m = np.random.choice(in_shifted_m, len(insured))\n",
    "    bs_sample_un_m = np.random.choice(un_shifted_m, len(uninsured))\n",
    "    bs_replicates_mean[i] = np.mean(bs_sample_in_m) - np.mean(bs_sample_un_m)"
   ]
  },
  {
   "cell_type": "code",
   "execution_count": 74,
   "metadata": {},
   "outputs": [
    {
     "name": "stdout",
     "output_type": "stream",
     "text": [
      "P value: 0.0\n"
     ]
    }
   ],
   "source": [
    "p = np.sum(bs_replicates_mean >= diff_of_mean)/len(bs_replicates_mean)\n",
    "print('P value: ' + str(p))"
   ]
  },
  {
   "cell_type": "markdown",
   "metadata": {},
   "source": [
    "The p-value is very low - almost 0, suggesting that under the null hypothesis, we could not get any value as extreme as the observed difference. This shows that the observed difference is very significant and we reject the null hypothesis. There is a real difference in the mean of the insured versus that of the uninsured."
   ]
  },
  {
   "cell_type": "markdown",
   "metadata": {},
   "source": [
    "__Q:__ To put the above result in perspective, plot the histogram of your bootstrapped differences along with lines marking the locations of the observed difference. (Why would we plot more than one line, given that we only have one observed difference?)"
   ]
  },
  {
   "cell_type": "markdown",
   "metadata": {},
   "source": [
    "__A:__ The difference could be a negative or a positive depending on the direction. So we can have 2 lines on each side, at the same distance from 0."
   ]
  },
  {
   "cell_type": "code",
   "execution_count": 70,
   "metadata": {},
   "outputs": [
    {
     "data": {
      "image/png": "[encoded data removed]",
      "text/plain": [
       "<Figure size 432x288 with 1 Axes>"
      ]
     },
     "metadata": {
      "needs_background": "light"
     },
     "output_type": "display_data"
    }
   ],
   "source": [
    "_ = plt.hist(bs_replicates_mean, edgecolor='white')\n",
    "_ = plt.xlabel('diff_means')\n",
    "_ = plt.ylabel('probabilty')\n",
    "_ = plt.axvline(diff_of_mean, color='k', linestyle='dashed', linewidth=1)\n"
   ]
  },
  {
   "cell_type": "markdown",
   "metadata": {},
   "source": [
    "__Q:__ Compare your p-value above with that obtained using the _t_-test function in the previous assignment. Do you think you would want to try to perform enough bootstrap replicates to observe a random difference as large as that we did observe?"
   ]
  },
  {
   "cell_type": "markdown",
   "metadata": {},
   "source": [
    "__A:__ The p-value from the t-test was also very small and suggested a significant difference. Performing the bootstrap replicates helped confirm the observation."
   ]
  },
  {
   "cell_type": "markdown",
   "metadata": {},
   "source": [
    "__Q:__ Consider the two variants of the _t_-test we performed in the previous assignment. Which one would you use now?"
   ]
  },
  {
   "cell_type": "markdown",
   "metadata": {},
   "source": [
    "__A:__ The Welch test for unequal variance showed a higher p value than the normal t-test. We should use this for unequal variance."
   ]
  },
  {
   "cell_type": "markdown",
   "metadata": {},
   "source": [
    "__Q:__ If, instead of being asked whether the means of two groups were different, you were working with an ad-recommender team who wanted to release a new recommendation algorithm, and you were looking at click-through rate both for the current algorithm (call it A) and from trials of their new algorithm (call it B), would you perform a two-sided test as above? What would be your null and alternative hypotheses and what would be the real-world consequence of rejecting the null hypothesis?"
   ]
  },
  {
   "cell_type": "markdown",
   "metadata": {},
   "source": [
    "__A:__ In this case, though we would be more interested in the one-tailed test to see if the new algorithm increased the click-through rate compared to the old one, the two sided test would show if there was any decrease in the click-through rate with the new algorithm. \n",
    "\n",
    "Null Hypothesis - There is no change in click through rate with the new algorithm or the old and the new algorithms do not show any difference.\n",
    "Alternative Hypothesis - There is an increase in the click-through rate in the new algorithm (one tailed test)\n",
    "\n",
    "Real world consequence of rejecting the null hypothesis depends on if we rejected it when it was True or when it was False. \n",
    "If we rejected the Null when it was True (Type I error), then it would be an expensive price to pay - spend money, time, effort and other resources to develop an algorithm which really does not do anything. If we rejected it when it was indeed False, then we would be bringing in value in the form of more visibility or business."
   ]
  },
  {
   "cell_type": "markdown",
   "metadata": {},
   "source": [
    "# Learning outcomes\n",
    "\n",
    "You've previously applied frequentist methods to calculate confidence intervals, p-values, and perform hypothesis tests. Frequentist methods use theoretical results to calculate what we expect would happen if experiments were to be run again and again and again. Now you've seen how you can do the same things using the bootstrap approach, which does not rely on such theory, and attendant assumptions, but instead literally does run experiments again and again and again.\n",
    "\n",
    "In these exercises, you have:\n",
    "* calculated the same confidence interval lower limit as you did previously\n",
    "* tested the assumption that the variances of the two groups (insured vs. non-insured) were equal - something a bit harder to do using the frequentist method because of the nature of the sampling distribution for variance\n",
    "* calculated the p-value for the difference between the means of the two groups and compared with the result obtained using the previous frequentist approach\n",
    "\n",
    "You are now well equipped to apply the bootstrap approach to a wide variety of problems. Just think about what conditions you wish to recreate in your simulated reruns."
   ]
  }
 ],
 "metadata": {
  "kernelspec": {
   "display_name": "Python 3",
   "language": "python",
   "name": "python3"
  },
  "language_info": {
   "codemirror_mode": {
    "name": "ipython",
    "version": 3
   },
   "file_extension": ".py",
   "mimetype": "text/x-python",
   "name": "python",
   "nbconvert_exporter": "python",
   "pygments_lexer": "ipython3",
   "version": "3.7.4"
  }
 },
 "nbformat": 4,
 "nbformat_minor": 2
}
